{
 "cells": [
  {
   "cell_type": "code",
   "execution_count": null,
   "metadata": {},
   "outputs": [],
   "source": [
    "# Написать итератор, который принимает список списков, и возвращает их плоское представление, т.е последовательность состоящую из вложенных элементов.\n",
    "\n",
    "nested_list = [\n",
    "    ['a', 'b', 'c'],\n",
    "    ['d', 'e', 'f', 'h', False],\n",
    "    [1, 2, None],\n",
    "]\n",
    "\n",
    "class FlatIterator:\n",
    "\n",
    "    def __init__(self, one_list):\n",
    "        self.one_list = one_list\n",
    "\n",
    "    def __iter__(self):\n",
    "        self.cursor = -1\n",
    "        return self\n",
    "\n",
    "    def __next__(self):\n",
    "        self.new_list = []\n",
    "        for list_el in self.one_list:\n",
    "            for el in list_el:\n",
    "                self.new_list.append(el)\n",
    "        for new_el in self.new_list:    \n",
    "            self.cursor += 1\n",
    "            if self.cursor == len(self.new_list):\n",
    "                raise StopIteration\n",
    "            return self.new_list[self.cursor]\n",
    "\n",
    "\n",
    "if __name__ == '__main__':\n",
    "\n",
    "    for item in FlatIterator(nested_list):\n",
    "        print(item) \n",
    "    flat_list = [item for item in FlatIterator(nested_list)]\n",
    "    print(flat_list)"
   ]
  },
  {
   "cell_type": "code",
   "execution_count": null,
   "metadata": {},
   "outputs": [],
   "source": [
    "# Написать генератор, который принимает список списков, и возвращает их плоское представление.\n",
    "\n",
    "nested_list = [\n",
    "\t['a', 'b', 'c'],\n",
    "\t['d', 'e', 'f'],\n",
    "\t[1, 2, None],\n",
    "]\n",
    "\n",
    "def flat_generator(list):\n",
    "    for list_el in list:\n",
    "        for el in list_el:\n",
    "            yield el\n",
    "\n",
    "for item in  flat_generator(nested_list):\n",
    "\tprint(item)"
   ]
  }
 ],
 "metadata": {
  "kernelspec": {
   "display_name": "Python 3.10.2 64-bit (system)",
   "language": "python",
   "name": "python3"
  },
  "language_info": {
   "name": "python",
   "version": "3.10.2"
  },
  "orig_nbformat": 4,
  "vscode": {
   "interpreter": {
    "hash": "994fe58c225d184ae47d1f91db353c1f2f9d58fadae3179ee0bd9ae5b84726c8"
   }
  }
 },
 "nbformat": 4,
 "nbformat_minor": 2
}
